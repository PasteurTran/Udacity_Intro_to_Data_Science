{
 "cells": [
  {
   "cell_type": "code",
   "execution_count": null,
   "metadata": {
    "collapsed": true
   },
   "outputs": [],
   "source": [
    "import numpy as np\n",
    "import scipy\n",
    "import scipy.stats\n",
    "import pandas\n",
    "\n",
    "def mann_whitney_plus_means(turnstile_weather):\n",
    "    '''\n",
    "    This function will consume the turnstile_weather dataframe containing\n",
    "    our final turnstile weather data. \n",
    "    \n",
    "    You will want to take the means and run the Mann Whitney U-test on the \n",
    "    ENTRIESn_hourly column in the turnstile_weather dataframe.\n",
    "    \n",
    "    This function should return:\n",
    "        1) the mean of entries with rain\n",
    "        2) the mean of entries without rain\n",
    "        3) the Mann-Whitney U-statistic and p-value comparing the number of entries\n",
    "           with rain and the number of entries without rain\n",
    "    \n",
    "    You should feel free to use scipy's Mann-Whitney implementation, and you \n",
    "    might also find it useful to use numpy's mean function.\n",
    "    \n",
    "    Here are the functions' documentation:\n",
    "    http://docs.scipy.org/doc/scipy/reference/generated/scipy.stats.mannwhitneyu.html\n",
    "    http://docs.scipy.org/doc/numpy/reference/generated/numpy.mean.html\n",
    "    \n",
    "    You can look at the final turnstile weather data at the link below:\n",
    "    https://s3.amazonaws.com/content.udacity-data.com/courses/ud359/turnstile_data_master_with_weather.csv\n",
    "    '''\n",
    "    \n",
    "    # Create a df\n",
    "    with_rain_df = turnstile_weather['ENTRIESn_hourly'][turnstile_weather['rain'] == 1]\n",
    "    no_rain_df = turnstile_weather['ENTRIESn_hourly'][turnstile_weather['rain'] == 0]\n",
    "    \n",
    "    with_rain_mean = np.mean(with_rain_df)\n",
    "    without_rain_mean = np.mean(no_rain_df)\n",
    "    \n",
    "    U, p = scipy.stats.mannwhitneyu(with_rain_df, no_rain_df)\n",
    "    \n",
    "    return with_rain_mean, without_rain_mean, U, p # leave this line for the grader\n"
   ]
  }
 ],
 "metadata": {
  "kernelspec": {
   "display_name": "Python 3",
   "language": "python",
   "name": "python3"
  },
  "language_info": {
   "codemirror_mode": {
    "name": "ipython",
    "version": 3
   },
   "file_extension": ".py",
   "mimetype": "text/x-python",
   "name": "python",
   "nbconvert_exporter": "python",
   "pygments_lexer": "ipython3",
   "version": "3.6.0"
  }
 },
 "nbformat": 4,
 "nbformat_minor": 2
}
