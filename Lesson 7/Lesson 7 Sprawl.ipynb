{
 "cells": [
  {
   "cell_type": "markdown",
   "metadata": {},
   "source": [
    "Visual Encoding:\n",
    "Positions, Lengths and Angle are useful to display information\n",
    "\n",
    "# GG PLOT:"
   ]
  },
  {
   "cell_type": "code",
   "execution_count": 2,
   "metadata": {
    "collapsed": false
   },
   "outputs": [
    {
     "data": {
      "text/plain": [
       "\"\\n#Read in DataFrame\\nhr_df = pandas.read_csv(hr_year_csv)\\n\\n\\n#Take the data, get the axis. Then colors, then title and label\\ngg = ggplot(hr_df, aes('yearID','HR')) + geom_point(color = 'red') + geom_line(color = 'red') +         ggtitle('Home Runs / Year') + xlab('Year') + ylab('Home Runs')\\n\""
      ]
     },
     "execution_count": 2,
     "metadata": {},
     "output_type": "execute_result"
    }
   ],
   "source": [
    "\"\"\"\n",
    "#Read in DataFrame\n",
    "hr_df = pandas.read_csv(hr_year_csv)\n",
    "\n",
    "\n",
    "#Take the data, get the axis. Then colors, then title and label\n",
    "gg = ggplot(hr_df, aes('yearID','HR')) + geom_point(color = 'red') + geom_line(color = 'red') + \\\n",
    "        ggtitle('Home Runs / Year') + xlab('Year') + ylab('Home Runs')\n",
    "\"\"\""
   ]
  },
  {
   "cell_type": "markdown",
   "metadata": {},
   "source": [
    "## Data Types\n",
    "### Numeric\n",
    "- A measurement\n",
    "- Discrete: Whole numbers, Continuos: only number within a RANGE\n",
    "\n",
    "### Categorical\n",
    "- Represent charactiertics, they CAN take numerical but aren't exact - like position, team and hand\n",
    "- Ordinal - some form of order\n",
    "\n",
    "### Time series\n",
    "- Data collected via repeated measurements over time\n",
    "- First data point collected and a LAST data point collected"
   ]
  },
  {
   "cell_type": "code",
   "execution_count": null,
   "metadata": {
    "collapsed": true
   },
   "outputs": [],
   "source": []
  }
 ],
 "metadata": {
  "kernelspec": {
   "display_name": "Python 3",
   "language": "python",
   "name": "python3"
  },
  "language_info": {
   "codemirror_mode": {
    "name": "ipython",
    "version": 3
   },
   "file_extension": ".py",
   "mimetype": "text/x-python",
   "name": "python",
   "nbconvert_exporter": "python",
   "pygments_lexer": "ipython3",
   "version": "3.6.0"
  }
 },
 "nbformat": 4,
 "nbformat_minor": 2
}
