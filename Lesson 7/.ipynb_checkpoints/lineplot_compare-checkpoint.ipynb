{
 "cells": [
  {
   "cell_type": "code",
   "execution_count": null,
   "metadata": {
    "collapsed": true
   },
   "outputs": [],
   "source": [
    "\n",
    "import pandas\n",
    "\n",
    "from ggplot import *\n",
    "\n",
    "\n",
    "def lineplot_compare(hr_by_team_year_sf_la_csv):\n",
    "    # Write a function, lineplot_compare, that will read a csv file\n",
    "    # called hr_by_team_year_sf_la.csv and plot it using pandas and ggplot.\n",
    "    #\n",
    "    # This csv file has three columns: yearID, HR, and teamID. The data in the\n",
    "    # file gives the total number of home runs hit each year by the SF Giants \n",
    "    # (teamID == 'SFN') and the LA Dodgers (teamID == \"LAN\"). Produce a \n",
    "    # visualization comparing the total home runs by year of the two teams. \n",
    "    # \n",
    "    # You can see the data in hr_by_team_year_sf_la_csv\n",
    "    # at the link below:\n",
    "    # https://s3.amazonaws.com/content.udacity-data.com/courses/ud359/hr_by_team_year_sf_la.csv\n",
    "    #\n",
    "    # Note that to differentiate between multiple categories on the \n",
    "    # same plot in ggplot, we can pass color in with the other arguments\n",
    "    # to aes, rather than in our geometry functions. For example, \n",
    "    # ggplot(data, aes(xvar, yvar, color=category_var)). This might help you \n",
    "    # in this exercise.\n",
    "    \n",
    "    hr_by_team_df = pandas.read_csv(hr_by_team_year_sf_la_csv)\n",
    "    \n",
    "    gg = ggplot(hr_by_team_df, aes('yearID','HR', color='teamID')) + geom_point() + ggtitle('Home Run / Year of SF/LA') + xlab('Year') + ylab('Home Runs')\n",
    "    return gg"
   ]
  }
 ],
 "metadata": {
  "kernelspec": {
   "display_name": "Python 3",
   "language": "python",
   "name": "python3"
  },
  "language_info": {
   "codemirror_mode": {
    "name": "ipython",
    "version": 3
   },
   "file_extension": ".py",
   "mimetype": "text/x-python",
   "name": "python",
   "nbconvert_exporter": "python",
   "pygments_lexer": "ipython3",
   "version": "3.6.0"
  }
 },
 "nbformat": 4,
 "nbformat_minor": 2
}
