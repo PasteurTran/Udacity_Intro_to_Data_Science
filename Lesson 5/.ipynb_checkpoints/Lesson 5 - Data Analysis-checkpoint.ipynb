{
 "cells": [
  {
   "cell_type": "markdown",
   "metadata": {},
   "source": [
    "## Stats Revision\n",
    "\n",
    "https://wikimedia.org/api/rest_v1/media/math/render/svg/ffe7c5cbdecda556bf2170e31f1f9a127b74e239\n",
    "\n",
    "\n",
    "### Normal Distribution\n",
    "Given f(x) = 1/ (sqrt(2*math.pi*variance)) * e ** -((x-MEAN)**2)/(2*variance)\n",
    "\n",
    "## T-Test\n",
    "One numebr that helps accept or REJECT the null hypothesis\n",
    "Eg. \n",
    "Same Size?\n",
    "Same Variance?\n",
    "\n",
    "### Welch's T-Test\n",
    "https://wikimedia.org/api/rest_v1/media/math/render/svg/a78a84cd057d99674a1a71d16064019946832e0e\n",
    "\n",
    "Calculate t \n",
    "Calculate v \n",
    "- Both these give you to calculate p\n",
    "\n",
    "\n",
    "\n"
   ]
  },
  {
   "cell_type": "code",
   "execution_count": 1,
   "metadata": {
    "collapsed": true
   },
   "outputs": [],
   "source": [
    "import scipy.stats"
   ]
  },
  {
   "cell_type": "code",
   "execution_count": 2,
   "metadata": {
    "collapsed": true
   },
   "outputs": [],
   "source": [
    "## scipy.stats.ttest_ind(list_1, list_2, equal_var = False) - this is WELCHES t-test\n",
    "## This is a TWO sided, to test if the "
   ]
  },
  {
   "cell_type": "code",
   "execution_count": 33,
   "metadata": {
    "collapsed": true
   },
   "outputs": [],
   "source": [
    "import numpy\n",
    "import scipy.stats\n",
    "import pandas\n",
    "\n",
    "def compare_averages(filename):\n",
    "    \"\"\"\n",
    "    Performs a t-test on two sets of baseball data (left-handed and right-handed hitters).\n",
    "\n",
    "    You will be given a csv file that has three columns.  A player's\n",
    "    name, handedness (L for lefthanded or R for righthanded) and their\n",
    "    career batting average (called 'avg'). You can look at the csv\n",
    "    file by downloading the baseball_stats file from Downloadables below. \n",
    "    \n",
    "    Write a function that will read that the csv file into a pandas data frame,\n",
    "    and run Welch's t-test on the two cohorts defined by handedness.\n",
    "    \n",
    "    One cohort should be a data frame of right-handed batters. And the other\n",
    "    cohort should be a data frame of left-handed batters.\n",
    "    \n",
    "    We have included the scipy.stats library to help you write\n",
    "    or implement Welch's t-test:\n",
    "    http://docs.scipy.org/doc/scipy/reference/stats.html\n",
    "    \n",
    "    With a significance level of 95%, if there is no difference\n",
    "    between the two cohorts, return a tuple consisting of\n",
    "    True, and then the tuple returned by scipy.stats.ttest.  \n",
    "    \n",
    "    If there is a difference, return a tuple consisting of\n",
    "    False, and then the tuple returned by scipy.stats.ttest.\n",
    "    \n",
    "    For example, the tuple that you return may look like:\n",
    "    (True, (9.93570222, 0.000023))\n",
    "    \"\"\"\n",
    "    # Read the file\n",
    "    df = pandas.read_csv(filename)\n",
    "    leftdf = df[df['handedness'] == 'L']['avg'] #obtains the average for lefthanders and makes a DF\n",
    "    rightdf = df[df['handedness'] == 'R']['avg'] #obtains the average for righthanders and makes a DF\n",
    "    \n",
    "    #calculuate Test\n",
    "    ttest = scipy.stats.ttest_ind(leftdf, rightdf, equal_var = False)\n",
    "    \n",
    "    #Reemmber that if the pvalue is LESS than 0.05, it means the differnce is signifant. Meaning there is a correlation between hands and avg\n",
    "    if(ttest[1]) < 0.05:\n",
    "        diff = False\n",
    "    else:\n",
    "        diff = True\n",
    "    \n",
    "    return (diff, ttest)\n"
   ]
  },
  {
   "cell_type": "code",
   "execution_count": 34,
   "metadata": {
    "collapsed": false
   },
   "outputs": [
    {
     "data": {
      "text/plain": [
       "(True,\n",
       " Ttest_indResult(statistic=9.9357022262420944, pvalue=3.8102742258887383e-23))"
      ]
     },
     "execution_count": 34,
     "metadata": {},
     "output_type": "execute_result"
    }
   ],
   "source": [
    "compare_averages(\"baseball_stats.csv\")"
   ]
  },
  {
   "cell_type": "code",
   "execution_count": null,
   "metadata": {
    "collapsed": false
   },
   "outputs": [],
   "source": [
    "\"Shapiro-Wilk Test\"\n",
    "# w,p = scipy.stats.shapiro(data)"
   ]
  },
  {
   "cell_type": "code",
   "execution_count": 1,
   "metadata": {
    "collapsed": true
   },
   "outputs": [],
   "source": [
    "#Non Parametric Test- assumes the data is drawn from any particularly underlying probability distribution"
   ]
  },
  {
   "cell_type": "markdown",
   "metadata": {},
   "source": [
    "Stats vs. Machine Learning\n",
    "Main differences:\n",
    "Stats is ANALYZING existing data and valid conclusions, where as ML is focused on predictions\n",
    "Example:\n",
    "\n",
    "#### Supervised Learning example:\n",
    "Can we predict based bunch of weight etc \n",
    "Linear Regression: \n",
    "J(0) - sum of the square of the difference:\n",
    "1/2 of of the error square term\n",
    "CONVERTED TO A MATRIX -> Y(predicted) = sum of theta*x\n"
   ]
  },
  {
   "cell_type": "code",
   "execution_count": null,
   "metadata": {
    "collapsed": true
   },
   "outputs": [],
   "source": []
  }
 ],
 "metadata": {
  "kernelspec": {
   "display_name": "Python 3",
   "language": "python",
   "name": "python3"
  },
  "language_info": {
   "codemirror_mode": {
    "name": "ipython",
    "version": 3
   },
   "file_extension": ".py",
   "mimetype": "text/x-python",
   "name": "python",
   "nbconvert_exporter": "python",
   "pygments_lexer": "ipython3",
   "version": "3.6.0"
  }
 },
 "nbformat": 4,
 "nbformat_minor": 2
}
