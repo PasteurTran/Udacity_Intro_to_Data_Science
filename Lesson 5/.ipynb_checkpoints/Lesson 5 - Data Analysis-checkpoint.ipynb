{
 "cells": [
  {
   "cell_type": "markdown",
   "metadata": {},
   "source": [
    "## Stats Revision\n",
    "\n",
    "https://wikimedia.org/api/rest_v1/media/math/render/svg/ffe7c5cbdecda556bf2170e31f1f9a127b74e239\n",
    "\n",
    "\n",
    "### Normal Distribution\n",
    "Given f(x) = 1/ (sqrt(2*math.pi*variance)) * e ** -((x-MEAN)**2)/(2*variance)\n",
    "\n",
    "## T-Test\n",
    "One numebr that helps accept or REJECT the null hypothesis\n",
    "Eg. \n",
    "Same Size?\n",
    "Same Variance?\n",
    "\n",
    "### Welch's T-Test\n",
    "https://wikimedia.org/api/rest_v1/media/math/render/svg/a78a84cd057d99674a1a71d16064019946832e0e\n",
    "\n",
    "\n",
    "\n"
   ]
  },
  {
   "cell_type": "code",
   "execution_count": null,
   "metadata": {
    "collapsed": true
   },
   "outputs": [],
   "source": []
  }
 ],
 "metadata": {
  "kernelspec": {
   "display_name": "Python 3",
   "language": "python",
   "name": "python3"
  },
  "language_info": {
   "codemirror_mode": {
    "name": "ipython",
    "version": 3
   },
   "file_extension": ".py",
   "mimetype": "text/x-python",
   "name": "python",
   "nbconvert_exporter": "python",
   "pygments_lexer": "ipython3",
   "version": "3.6.0"
  }
 },
 "nbformat": 4,
 "nbformat_minor": 2
}
